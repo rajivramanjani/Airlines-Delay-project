{
 "cells": [
  {
   "cell_type": "markdown",
   "metadata": {},
   "source": [
    "UpX Academy - Airlines Project - Bangalore Group - March 2017 Batch - Rajiv Ramanjani\n",
    "Section3- Airline Traffic\n",
    "=============\n",
    "Questions Addressed:\n",
    "1. Which airline has the highest number of flights? How does it compare to other airlines across each of the four quarters?\n",
    "2. Which flight number has the highest movement in each of the airports and which flights have minimum movement?\n",
    "3. Which tail number is used most by an airline? How does it compare with other airlines?"
   ]
  },
  {
   "cell_type": "markdown",
   "metadata": {},
   "source": [
    "-----------------------------------Section 3 : Airline Traffic------------------------------------------------------------------"
   ]
  },
  {
   "cell_type": "code",
   "execution_count": 3,
   "metadata": {
    "collapsed": false
   },
   "outputs": [],
   "source": [
    "#defining the local path of the location of the csv data file\n",
    "your_local_path=\"C:/DataScience/AirlinesProject/attachment_Project_1_NYC_Flight_data/\""
   ]
  },
  {
   "cell_type": "code",
   "execution_count": 4,
   "metadata": {
    "collapsed": false
   },
   "outputs": [],
   "source": [
    "#importing the panda, numpy and matplotlib libraries\n",
    "import pandas as pd\n",
    "import numpy as np\n",
    "import matplotlib.pyplot as plt\n",
    "import matplotlib.mlab as mla\n",
    "% matplotlib inline"
   ]
  },
  {
   "cell_type": "code",
   "execution_count": 110,
   "metadata": {
    "collapsed": false
   },
   "outputs": [
    {
     "data": {
      "image/png": "[encoded data removed]",
      "text/plain": [
       "<matplotlib.figure.Figure at 0x4c493399b0>"
      ]
     },
     "metadata": {},
     "output_type": "display_data"
    },
    {
     "name": "stdout",
     "output_type": "stream",
     "text": [
      "UA Is the carrier with the highest traffic at: 58665 flights in a year.\n"
     ]
    }
   ],
   "source": [
    "#Aircraft carrier traffic is depicted in the code of this cell\n",
    "compustatdata = pd.read_csv(your_local_path+'flight_data.csv', usecols = ['carrier','flight','tailnum'], encoding='latin-1')\n",
    "#In the above line we have selected only three columns from the csv file\n",
    "carr_data = compustatdata.groupby('carrier').size().sort_values(ascending=False)  #grouping the data based on airlines name\n",
    "subcount = compustatdata[\"carrier\"].value_counts() #here the number of flights for each carrier is counted\n",
    "mx = max(subcount.values) #The maximum number of flights for a carrier is captured here\n",
    "mi = min(subcount.values) # the minimum number of flights for a carrier is captured here\n",
    "idx = subcount.index #The unique names of airline carriers are captured from the index part of the subcount \n",
    "sz = idx.size #The number of unique names of airline carriers are captured using the size function\n",
    "interv = int(mx / sz) #The interval size is captured for later use in graph.  This is max / size\n",
    "\n",
    "#The actual graph definition happens here\n",
    "yvals = subcount.values  #the values of the y axis are defined here\n",
    "xvals = np.arange(sz)    # the values of the x are defined here\n",
    "width = 0.35       # the width of the bars: can also be len(x) sequence\n",
    "p1 = plt.bar(xvals, yvals, width, color='#d62728')   # the actual bar graph is defined here\n",
    "\n",
    "plt.ylabel('Flights')    # the y axis label is defined here\n",
    "plt.xlabel('Names of Carriers') # the x axis label is defined here\n",
    "plt.title('Traffic of Aircraft Carriers') #the chart title is defined here\n",
    "plt.xticks(xvals, idx) #the values that go into the x axis and the number of these values are defined here\n",
    "plt.yticks(np.arange(mi, mx, interv)) #The minimum, maximum values and the difference between the two are defined here\n",
    "plt.show()   #actual display of the graph\n",
    "\n",
    "print(subcount.index[0],'Is the carrier with the highest traffic at:',mx, 'flights in a year.')  #addon comments to summarize"
   ]
  },
  {
   "cell_type": "markdown",
   "metadata": {
    "collapsed": false
   },
   "source": [
    "# flight_dat = pd.read_csv(your_local_path+'flight_data.csv', usecols = ['month','carrier','flight'])\n",
    "df = pd.DataFrame(flight_dat.values, columns = ['month','carrier','flightnum'])\n",
    "Q1 = df.query('month in (1,2,3)')\n",
    "Q2 = df.query('month in (4,5,6)')\n",
    "Q3 = df.query('month in (7,8,9)')\n",
    "Q4 = df.query('month in (10,11,12)')\n",
    "Q1_count = Q1[\"carrier\"].value_counts()\n",
    "Q2_count = Q2[\"carrier\"].value_counts()\n",
    "Q3_count = Q3[\"carrier\"].value_counts()\n",
    "Q4_count = Q4[\"carrier\"].value_counts()\n",
    "x = [Q1_count.index]\n",
    "y = [Q1_count.values]\n",
    "z = [Q2_count.values]\n",
    "k = [Q3_count.values]\n",
    "l = [Q4_count.values]\n",
    "print(\"The comparison of airline traffic across the four quarters of 2013 is given below\")\n",
    "N = sz\n",
    "ind = np.arange(sz)    # the x locations for the groups\n",
    "width = 0.2       # the width of the bars\n",
    "\n",
    "fig = plt.figure()\n",
    "ax = fig.add_subplot(111)\n",
    "\n",
    "rects1 = ax.bar(ind, Q1_count.values, width, color='r')\n",
    "rects2 = ax.bar(ind+width, Q2_count.values, width, color='g')\n",
    "rects3 = ax.bar(ind+width*2, Q3_count.values, width, color='b')\n",
    "rects4 = ax.bar(ind+width*3, Q4_count.values, width, color='y')\n",
    "\n",
    "ax.set_ylabel('Quarterly Figures')\n",
    "plt.xlabel('Names of Carriers')\n",
    "plt.title('Quarterly Traffic of Aircraft Carriers')\n",
    "ax.set_xticks(ind+width)\n",
    "ax.set_xticklabels(idx)\n",
    "ax.legend( (rects1[0], rects2[0], rects3[0], rects4[0]), ('Q1', 'Q2', 'Q3','Q4') )\n",
    "  \n",
    "plt.show()\n",
    "\n",
    "Q1_count = Q1_count.to_frame('Q1 Traffic')\n",
    "Q2_count = Q2_count.to_frame('Q2 Traffic')\n",
    "Q3_count = Q3_count.to_frame('Q3 Traffic')\n",
    "Q4_count = Q4_count.to_frame('Q4 Traffic')\n",
    "tabl = pd.concat([Q1_count, Q2_count, Q3_count, Q4_count], axis=1)\n",
    "tabl"
   ]
  },
  {
   "cell_type": "code",
   "execution_count": 94,
   "metadata": {
    "collapsed": false
   },
   "outputs": [
    {
     "name": "stdout",
     "output_type": "stream",
     "text": [
      "The following flights from the below mentioned three airports have the highest movement\n"
     ]
    },
    {
     "data": {
      "text/html": [
       "<div>\n",
       "<table border=\"1\" class=\"dataframe\">\n",
       "  <thead>\n",
       "    <tr style=\"text-align: right;\">\n",
       "      <th></th>\n",
       "      <th>origin</th>\n",
       "      <th>JFK</th>\n",
       "      <th>EWR</th>\n",
       "      <th>LGA</th>\n",
       "    </tr>\n",
       "    <tr>\n",
       "      <th>carrier</th>\n",
       "      <th>flight</th>\n",
       "      <th></th>\n",
       "      <th></th>\n",
       "      <th></th>\n",
       "    </tr>\n",
       "  </thead>\n",
       "  <tbody>\n",
       "    <tr>\n",
       "      <th rowspan=\"3\" valign=\"top\">AA</th>\n",
       "      <th>59</th>\n",
       "      <td>365.0</td>\n",
       "      <td>0.0</td>\n",
       "      <td>0.0</td>\n",
       "    </tr>\n",
       "    <tr>\n",
       "      <th>119</th>\n",
       "      <td>0.0</td>\n",
       "      <td>365.0</td>\n",
       "      <td>0.0</td>\n",
       "    </tr>\n",
       "    <tr>\n",
       "      <th>1611</th>\n",
       "      <td>0.0</td>\n",
       "      <td>0.0</td>\n",
       "      <td>365.0</td>\n",
       "    </tr>\n",
       "  </tbody>\n",
       "</table>\n",
       "</div>"
      ],
      "text/plain": [
       "origin            JFK    EWR    LGA\n",
       "carrier flight                     \n",
       "AA      59      365.0    0.0    0.0\n",
       "        119       0.0  365.0    0.0\n",
       "        1611      0.0    0.0  365.0"
      ]
     },
     "execution_count": 94,
     "metadata": {},
     "output_type": "execute_result"
    }
   ],
   "source": [
    "flight_dat2 = pd.read_csv(your_local_path+'flight_data.csv', usecols = ['origin','carrier','flight','tailnum']) #copy file data\n",
    "df2 = pd.DataFrame(flight_dat2.values,columns=['origin','carrier','flight','tailnum']) #define dataframe\n",
    "table = pd.pivot_table(flight_dat2, values='tailnum', index=['origin'],columns=['carrier','flight'], aggfunc=len) #\n",
    "jfk = table.query('origin in \"JFK\"').T   #filtering data of JFK airport \n",
    "jfk = jfk.fillna(0)                      #initializing nan cells to zero\n",
    "jfk2 = jfk.loc[jfk.idxmax()]             #shortlisting the airline/flight number that has maximum flights\n",
    "ewr = table.query('origin in \"EWR\"').T   #filtering data of EWR airport \n",
    "ewr = ewr.fillna(0)                       #initializing nan cells to zero\n",
    "ewr2 = ewr.loc[ewr.idxmax()]             #shortlisting the airline/flight number that has maximum flights\n",
    "lga = table.query('origin in \"LGA\"').T   #filtering data of LGA airport \n",
    "lga = lga.fillna(0)                      #initializing nan cells to zero\n",
    "lga2 = lga.loc[lga.idxmax()]             #shortlisting the airline/flight number that has maximum flights\n",
    "arpt = pd.concat([jfk2, ewr2, lga2], axis=1).fillna(0)  #merge/concatenate the data from individual airports\n",
    "print(\"The following flights from the below mentioned three airports have the highest movement\") #summary comment\n",
    "arpt  #display of the top flights that originate from each of the three airports"
   ]
  },
  {
   "cell_type": "code",
   "execution_count": 106,
   "metadata": {
    "collapsed": false
   },
   "outputs": [
    {
     "name": "stdout",
     "output_type": "stream",
     "text": [
      "The top 30 tail numbers that are used most by different airlines are given below\n"
     ]
    },
    {
     "data": {
      "text/plain": [
       "tailnum  carrier\n",
       "N725MQ   MQ         575\n",
       "N722MQ   MQ         513\n",
       "N723MQ   MQ         507\n",
       "N711MQ   MQ         486\n",
       "N713MQ   MQ         483\n",
       "N258JB   B6         427\n",
       "N298JB   B6         407\n",
       "N353JB   B6         404\n",
       "N351JB   B6         402\n",
       "N735MQ   MQ         396\n",
       "N328AA   AA         393\n",
       "N338AA   AA         388\n",
       "N228JB   B6         388\n",
       "N327AA   AA         387\n",
       "N335AA   AA         385\n",
       "N0EGMQ   MQ         371\n",
       "N324JB   B6         370\n",
       "N274JB   B6         370\n",
       "N534MQ   MQ         364\n",
       "N229JB   B6         364\n",
       "N542MQ   MQ         363\n",
       "N190JB   B6         362\n",
       "N183JB   B6         361\n",
       "N296JB   B6         357\n",
       "N323AA   AA         357\n",
       "N249JB   B6         355\n",
       "N319AA   AA         354\n",
       "N336AA   AA         353\n",
       "N247JB   B6         350\n",
       "N531MQ   MQ         349\n",
       "dtype: int64"
      ]
     },
     "execution_count": 106,
     "metadata": {},
     "output_type": "execute_result"
    }
   ],
   "source": [
    "taildata = pd.read_csv(your_local_path+'flight_data.csv', usecols = ['tailnum','carrier'], encoding='latin-1')\n",
    "#copy the tailnum and airline names data\n",
    "tal_data = taildata.groupby(['tailnum','carrier']).size() #group based on tailnumber data first and then followed by carrier and\n",
    "                                                        #add the count of the number of tailnumbers based on size parameter\n",
    "tal_data = tal_data.sort_values(ascending=False) #sort on descending order of size or number of occurences\n",
    "print(\"The top 30 tail numbers that are used most by different airlines are given below\") #summary comment\n",
    "tal_data.head(30)  #the top 30 usages of the tailnumbers along with carriers that correspond to it.\n"
   ]
  },
  {
   "cell_type": "code",
   "execution_count": null,
   "metadata": {
    "collapsed": true
   },
   "outputs": [],
   "source": [
    "#tempvar = compustatdata.iloc[:,0]\n",
    "#y = pd.unique(tempvar)  #The list of unique airline names is captured in the variable y\n"
   ]
  }
 ],
 "metadata": {
  "kernelspec": {
   "display_name": "Python 3",
   "language": "python",
   "name": "python3"
  },
  "language_info": {
   "codemirror_mode": {
    "name": "ipython",
    "version": 3
   },
   "file_extension": ".py",
   "mimetype": "text/x-python",
   "name": "python",
   "nbconvert_exporter": "python",
   "pygments_lexer": "ipython3",
   "version": "3.6.0"
  }
 },
 "nbformat": 4,
 "nbformat_minor": 2
}
